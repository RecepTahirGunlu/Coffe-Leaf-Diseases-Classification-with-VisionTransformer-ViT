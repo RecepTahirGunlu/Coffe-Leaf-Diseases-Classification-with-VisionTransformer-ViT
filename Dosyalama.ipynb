{
 "cells": [
  {
   "cell_type": "code",
   "execution_count": 1,
   "id": "14547654",
   "metadata": {},
   "outputs": [],
   "source": [
    "import pandas as pd"
   ]
  },
  {
   "cell_type": "code",
   "execution_count": 2,
   "id": "3b50241b",
   "metadata": {},
   "outputs": [
    {
     "data": {
      "text/html": [
       "<div>\n",
       "<style scoped>\n",
       "    .dataframe tbody tr th:only-of-type {\n",
       "        vertical-align: middle;\n",
       "    }\n",
       "\n",
       "    .dataframe tbody tr th {\n",
       "        vertical-align: top;\n",
       "    }\n",
       "\n",
       "    .dataframe thead th {\n",
       "        text-align: right;\n",
       "    }\n",
       "</style>\n",
       "<table border=\"1\" class=\"dataframe\">\n",
       "  <thead>\n",
       "    <tr style=\"text-align: right;\">\n",
       "      <th></th>\n",
       "      <th>id</th>\n",
       "      <th>predominant_stress</th>\n",
       "      <th>miner</th>\n",
       "      <th>rust</th>\n",
       "      <th>phoma</th>\n",
       "      <th>severity</th>\n",
       "    </tr>\n",
       "  </thead>\n",
       "  <tbody>\n",
       "    <tr>\n",
       "      <th>0</th>\n",
       "      <td>0</td>\n",
       "      <td>0</td>\n",
       "      <td>0</td>\n",
       "      <td>0</td>\n",
       "      <td>0</td>\n",
       "      <td>0</td>\n",
       "    </tr>\n",
       "    <tr>\n",
       "      <th>1</th>\n",
       "      <td>1</td>\n",
       "      <td>0</td>\n",
       "      <td>0</td>\n",
       "      <td>0</td>\n",
       "      <td>0</td>\n",
       "      <td>0</td>\n",
       "    </tr>\n",
       "    <tr>\n",
       "      <th>2</th>\n",
       "      <td>2</td>\n",
       "      <td>0</td>\n",
       "      <td>0</td>\n",
       "      <td>0</td>\n",
       "      <td>0</td>\n",
       "      <td>0</td>\n",
       "    </tr>\n",
       "    <tr>\n",
       "      <th>3</th>\n",
       "      <td>3</td>\n",
       "      <td>0</td>\n",
       "      <td>0</td>\n",
       "      <td>0</td>\n",
       "      <td>0</td>\n",
       "      <td>0</td>\n",
       "    </tr>\n",
       "    <tr>\n",
       "      <th>4</th>\n",
       "      <td>4</td>\n",
       "      <td>0</td>\n",
       "      <td>0</td>\n",
       "      <td>0</td>\n",
       "      <td>0</td>\n",
       "      <td>0</td>\n",
       "    </tr>\n",
       "    <tr>\n",
       "      <th>...</th>\n",
       "      <td>...</td>\n",
       "      <td>...</td>\n",
       "      <td>...</td>\n",
       "      <td>...</td>\n",
       "      <td>...</td>\n",
       "      <td>...</td>\n",
       "    </tr>\n",
       "    <tr>\n",
       "      <th>1533</th>\n",
       "      <td>1533</td>\n",
       "      <td>2</td>\n",
       "      <td>0</td>\n",
       "      <td>1</td>\n",
       "      <td>0</td>\n",
       "      <td>1</td>\n",
       "    </tr>\n",
       "    <tr>\n",
       "      <th>1534</th>\n",
       "      <td>1534</td>\n",
       "      <td>0</td>\n",
       "      <td>0</td>\n",
       "      <td>0</td>\n",
       "      <td>0</td>\n",
       "      <td>0</td>\n",
       "    </tr>\n",
       "    <tr>\n",
       "      <th>1535</th>\n",
       "      <td>1535</td>\n",
       "      <td>2</td>\n",
       "      <td>0</td>\n",
       "      <td>1</td>\n",
       "      <td>0</td>\n",
       "      <td>2</td>\n",
       "    </tr>\n",
       "    <tr>\n",
       "      <th>1536</th>\n",
       "      <td>1536</td>\n",
       "      <td>2</td>\n",
       "      <td>0</td>\n",
       "      <td>1</td>\n",
       "      <td>0</td>\n",
       "      <td>2</td>\n",
       "    </tr>\n",
       "    <tr>\n",
       "      <th>1537</th>\n",
       "      <td>1537</td>\n",
       "      <td>2</td>\n",
       "      <td>0</td>\n",
       "      <td>1</td>\n",
       "      <td>0</td>\n",
       "      <td>1</td>\n",
       "    </tr>\n",
       "  </tbody>\n",
       "</table>\n",
       "<p>1538 rows × 6 columns</p>\n",
       "</div>"
      ],
      "text/plain": [
       "        id  predominant_stress  miner  rust  phoma  severity\n",
       "0        0                   0      0     0      0         0\n",
       "1        1                   0      0     0      0         0\n",
       "2        2                   0      0     0      0         0\n",
       "3        3                   0      0     0      0         0\n",
       "4        4                   0      0     0      0         0\n",
       "...    ...                 ...    ...   ...    ...       ...\n",
       "1533  1533                   2      0     1      0         1\n",
       "1534  1534                   0      0     0      0         0\n",
       "1535  1535                   2      0     1      0         2\n",
       "1536  1536                   2      0     1      0         2\n",
       "1537  1537                   2      0     1      0         1\n",
       "\n",
       "[1538 rows x 6 columns]"
      ]
     },
     "execution_count": 2,
     "metadata": {},
     "output_type": "execute_result"
    }
   ],
   "source": [
    "leaf = pd.read_csv(\"dataset.csv\")\n",
    "leaf"
   ]
  },
  {
   "cell_type": "code",
   "execution_count": 3,
   "id": "e9051c07",
   "metadata": {},
   "outputs": [],
   "source": [
    "import matplotlib.pyplot as plt\n",
    "import numpy as np"
   ]
  },
  {
   "cell_type": "code",
   "execution_count": 4,
   "id": "02bef8d3",
   "metadata": {},
   "outputs": [
    {
     "data": {
      "text/plain": [
       "array([0, 1, 2, 3], dtype=int64)"
      ]
     },
     "execution_count": 4,
     "metadata": {},
     "output_type": "execute_result"
    }
   ],
   "source": [
    "leaf_ = leaf['predominant_stress']\n",
    "np.sort(leaf_.unique())"
   ]
  },
  {
   "cell_type": "code",
   "execution_count": 5,
   "id": "d7785601",
   "metadata": {},
   "outputs": [],
   "source": [
    "leaf.predominant_stress[leaf[\"predominant_stress\"].values == 0] = \"healthy\" \n",
    "leaf.predominant_stress[leaf[\"predominant_stress\"].values == 1] = \"miner\"\n",
    "leaf.predominant_stress[leaf[\"predominant_stress\"].values == 2] = \"rust\" \n",
    "leaf.predominant_stress[leaf[\"predominant_stress\"].values == 3] = \"phoma\" \n",
    "leaf.predominant_stress[leaf[\"predominant_stress\"].values == 4] = \"cercospora\"\n",
    "leaf.predominant_stress[leaf[\"predominant_stress\"].values == 5] = \"undetermined\" "
   ]
  },
  {
   "cell_type": "code",
   "execution_count": 6,
   "id": "aefb2ea9",
   "metadata": {},
   "outputs": [
    {
     "data": {
      "image/png": "[encoded data removed]",
      "text/plain": [
       "<Figure size 640x480 with 1 Axes>"
      ]
     },
     "metadata": {},
     "output_type": "display_data"
    },
    {
     "name": "stdout",
     "output_type": "stream",
     "text": [
      "rust       531\n",
      "miner      387\n",
      "phoma      348\n",
      "healthy    272\n",
      "Name: predominant_stress, dtype: int64\n"
     ]
    }
   ],
   "source": [
    "import seaborn as sns\n",
    "\n",
    "sns.countplot(x=\"predominant_stress\", data=leaf)\n",
    "plt.xticks(rotation = 20)\n",
    "plt.show()\n",
    "print(leaf.predominant_stress.value_counts())"
   ]
  },
  {
   "cell_type": "code",
   "execution_count": 7,
   "id": "efa7cecb",
   "metadata": {},
   "outputs": [],
   "source": [
    "healthy = [leaf.id[i] for i in range(1538) if leaf.predominant_stress[i] == 0]\n",
    "miner = [leaf.id[i] for i in range(1538) if leaf.predominant_stress[i] == 1]\n",
    "rust = [leaf.id[i] for i in range(1538) if leaf.predominant_stress[i] == 2]\n",
    "phoma = [leaf.id[i] for i in range(1538) if leaf.predominant_stress[i] == 3]"
   ]
  },
  {
   "cell_type": "code",
   "execution_count": 8,
   "id": "b3a130a9",
   "metadata": {},
   "outputs": [
    {
     "name": "stdout",
     "output_type": "stream",
     "text": [
      "C:\\Users\\RecepTahirGunlu\\Desktop\\coffee-datasets\\leaf\\img\n",
      "C:\\Users\\RecepTahirGunlu\\Desktop\\coffee-datasets\\leaf\n"
     ]
    }
   ],
   "source": [
    "!mkdir img\n",
    "%cd img\n",
    "!mkdir 0\n",
    "!mkdir 1\n",
    "!mkdir 2\n",
    "!mkdir 3\n",
    "%cd .."
   ]
  },
  {
   "cell_type": "code",
   "execution_count": 9,
   "id": "dbb5514d",
   "metadata": {},
   "outputs": [],
   "source": [
    "categories = [healthy,miner,rust,phoma]"
   ]
  },
  {
   "cell_type": "code",
   "execution_count": 10,
   "id": "9f51e3ac",
   "metadata": {},
   "outputs": [],
   "source": [
    "a = 0\n",
    "for category in categories:\n",
    "    for i in category:\n",
    "        shutil.move(f'images/{i}.jpg',f'img/{a}')\n",
    "    a += 1"
   ]
  },
  {
   "cell_type": "code",
   "execution_count": 11,
   "id": "093bc79f",
   "metadata": {},
   "outputs": [
    {
     "name": "stdout",
     "output_type": "stream",
     "text": [
      "C:\\Users\\RecepTahirGunlu\\Desktop\\coffee-datasets\\leaf\\img\n"
     ]
    }
   ],
   "source": [
    "import os\n",
    "%cd img\n",
    "os.rename('0','healthy')\n",
    "os.rename('1','miner')\n",
    "os.rename('2','rust')\n",
    "os.rename('3','phoma')"
   ]
  }
 ],
 "metadata": {
  "kernelspec": {
   "display_name": "Python 3 (ipykernel)",
   "language": "python",
   "name": "python3"
  },
  "language_info": {
   "codemirror_mode": {
    "name": "ipython",
    "version": 3
   },
   "file_extension": ".py",
   "mimetype": "text/x-python",
   "name": "python",
   "nbconvert_exporter": "python",
   "pygments_lexer": "ipython3",
   "version": "3.9.13"
  }
 },
 "nbformat": 4,
 "nbformat_minor": 5
}
